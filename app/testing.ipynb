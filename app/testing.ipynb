{
 "cells": [
  {
   "cell_type": "code",
   "execution_count": 16,
   "id": "bce9ef82",
   "metadata": {},
   "outputs": [],
   "source": [
    "import numpy as np\n",
    "import matplotlib as mpl\n",
    "from matplotlib import pyplot as plt\n",
    "from sklearn.linear_model import LogisticRegression\n",
    "from sklearn.model_selection import train_test_split\n",
    "from sklearn.preprocessing import StandardScaler\n",
    "from sklearn.utils import check_random_state\n",
    "from sklearn.metrics import accuracy_score\n",
    "from joblib import dump, load\n",
    "np.random.seed(1)\n"
   ]
  },
  {
   "cell_type": "code",
   "execution_count": 20,
   "id": "d3951eef",
   "metadata": {},
   "outputs": [],
   "source": [
    "from sklearn.datasets import fetch_openml\n",
    "X, y = fetch_openml('mnist_784', version=1, return_X_y=True, as_frame=False)"
   ]
  },
  {
   "cell_type": "code",
   "execution_count": 21,
   "id": "8a6ff075",
   "metadata": {},
   "outputs": [
    {
     "name": "stdout",
     "output_type": "stream",
     "text": [
      "(70000, 784)\n",
      "(70000,)\n"
     ]
    }
   ],
   "source": [
    "print(X.shape)\n",
    "print(y.shape)"
   ]
  },
  {
   "cell_type": "code",
   "execution_count": 22,
   "id": "1d54b94b",
   "metadata": {},
   "outputs": [
    {
     "name": "stdout",
     "output_type": "stream",
     "text": [
      "[10840 56267 14849 ... 42613 43567 68268]\n"
     ]
    }
   ],
   "source": [
    "random_state = check_random_state(0)\n",
    "permutation = random_state.permutation(X.shape[0])\n",
    "print(permutation)\n",
    "X = X[permutation]\n",
    "y = y[permutation]"
   ]
  },
  {
   "cell_type": "code",
   "execution_count": 27,
   "id": "f863bb6b",
   "metadata": {},
   "outputs": [
    {
     "name": "stdout",
     "output_type": "stream",
     "text": [
      "(5, 28, 28)\n",
      "[[[0. 0. 0. ... 0. 0. 0.]\n",
      "  [0. 0. 0. ... 0. 0. 0.]\n",
      "  [0. 0. 0. ... 0. 0. 0.]\n",
      "  ...\n",
      "  [0. 0. 0. ... 0. 0. 0.]\n",
      "  [0. 0. 0. ... 0. 0. 0.]\n",
      "  [0. 0. 0. ... 0. 0. 0.]]\n",
      "\n",
      " [[0. 0. 0. ... 0. 0. 0.]\n",
      "  [0. 0. 0. ... 0. 0. 0.]\n",
      "  [0. 0. 0. ... 0. 0. 0.]\n",
      "  ...\n",
      "  [0. 0. 0. ... 0. 0. 0.]\n",
      "  [0. 0. 0. ... 0. 0. 0.]\n",
      "  [0. 0. 0. ... 0. 0. 0.]]\n",
      "\n",
      " [[0. 0. 0. ... 0. 0. 0.]\n",
      "  [0. 0. 0. ... 0. 0. 0.]\n",
      "  [0. 0. 0. ... 0. 0. 0.]\n",
      "  ...\n",
      "  [0. 0. 0. ... 0. 0. 0.]\n",
      "  [0. 0. 0. ... 0. 0. 0.]\n",
      "  [0. 0. 0. ... 0. 0. 0.]]\n",
      "\n",
      " [[0. 0. 0. ... 0. 0. 0.]\n",
      "  [0. 0. 0. ... 0. 0. 0.]\n",
      "  [0. 0. 0. ... 0. 0. 0.]\n",
      "  ...\n",
      "  [0. 0. 0. ... 0. 0. 0.]\n",
      "  [0. 0. 0. ... 0. 0. 0.]\n",
      "  [0. 0. 0. ... 0. 0. 0.]]\n",
      "\n",
      " [[0. 0. 0. ... 0. 0. 0.]\n",
      "  [0. 0. 0. ... 0. 0. 0.]\n",
      "  [0. 0. 0. ... 0. 0. 0.]\n",
      "  ...\n",
      "  [0. 0. 0. ... 0. 0. 0.]\n",
      "  [0. 0. 0. ... 0. 0. 0.]\n",
      "  [0. 0. 0. ... 0. 0. 0.]]]\n"
     ]
    }
   ],
   "source": [
    "cnt=5\n",
    "sampleX = X[0:cnt]\n",
    "sampley = y[0:cnt]\n",
    "exampleX = sampleX.reshape(sampleX.shape[0],28,28)\n",
    "print(exampleX.shape)\n",
    "print(exampleX)"
   ]
  },
  {
   "cell_type": "code",
   "execution_count": 28,
   "id": "1636af22",
   "metadata": {},
   "outputs": [
    {
     "data": {
      "image/png": "[encoded data removed]",
      "text/plain": [
       "<Figure size 432x288 with 5 Axes>"
      ]
     },
     "metadata": {},
     "output_type": "display_data"
    }
   ],
   "source": [
    "for i in range(exampleX.shape[0]):\n",
    "    subplt = plt.subplot(1, exampleX.shape[0], i + 1)\n",
    "    subplt.imshow(exampleX[i,:,:])  \n",
    "    subplt.set_xticks(())\n",
    "    subplt.set_yticks(())\n",
    "    subplt.set_xlabel(y[i])\n",
    "plt.show()"
   ]
  },
  {
   "cell_type": "code",
   "execution_count": 29,
   "id": "f0092839",
   "metadata": {},
   "outputs": [],
   "source": [
    "X_train, X_test, y_train, y_test = train_test_split(\n",
    "    X, y, test_size=0.2)"
   ]
  },
  {
   "cell_type": "code",
   "execution_count": 30,
   "id": "7b0d0619",
   "metadata": {},
   "outputs": [],
   "source": [
    "scaler = StandardScaler()\n",
    "X_train = scaler.fit_transform(X_train)\n",
    "X_test = scaler.transform(X_test)"
   ]
  },
  {
   "cell_type": "code",
   "execution_count": 10,
   "id": "d29451f0",
   "metadata": {},
   "outputs": [
    {
     "data": {
      "text/plain": [
       "LogisticRegression(C=0.0008928571428571428, penalty='l1', solver='saga',\n",
       "                   tol=0.1)"
      ]
     },
     "execution_count": 10,
     "metadata": {},
     "output_type": "execute_result"
    }
   ],
   "source": [
    "clf = LogisticRegression(\n",
    "    C=50. / X_train.shape[0], penalty='l1', solver='saga', tol=0.1\n",
    ")\n",
    "clf.fit(X_train, y_train)"
   ]
  },
  {
   "cell_type": "code",
   "execution_count": 11,
   "id": "9c95f18a",
   "metadata": {},
   "outputs": [
    {
     "name": "stdout",
     "output_type": "stream",
     "text": [
      "Sparsity with L1 penalty: 84.69%\n",
      "Test score with L1 penalty: 0.8401\n"
     ]
    }
   ],
   "source": [
    "sparsity = np.mean(clf.coef_ == 0) * 100\n",
    "score = clf.score(X_test, y_test)\n",
    "# print('Best C % .4f' % clf.C_)\n",
    "print(\"Sparsity with L1 penalty: %.2f%%\" % sparsity)\n",
    "print(\"Test score with L1 penalty: %.4f\" % score)"
   ]
  },
  {
   "cell_type": "code",
   "execution_count": 12,
   "id": "ee4c2201",
   "metadata": {},
   "outputs": [
    {
     "data": {
      "text/plain": [
       "Text(0.5, 0.98, 'Classification vector for...')"
      ]
     },
     "execution_count": 12,
     "metadata": {},
     "output_type": "execute_result"
    },
    {
     "data": {
      "image/png": "[encoded data removed]",
      "text/plain": [
       "<Figure size 720x360 with 10 Axes>"
      ]
     },
     "metadata": {},
     "output_type": "display_data"
    }
   ],
   "source": [
    "coef = clf.coef_.copy()\n",
    "plt.figure(figsize=(10, 5))\n",
    "scale = np.abs(coef).max()\n",
    "for i in range(10):\n",
    "    l1_plot = plt.subplot(2, 5, i + 1)\n",
    "    l1_plot.imshow(coef[i].reshape(28, 28), interpolation='nearest',\n",
    "                   cmap=plt.cm.RdBu, vmin=-scale, vmax=scale)\n",
    "    l1_plot.set_xticks(())\n",
    "    l1_plot.set_yticks(())\n",
    "    l1_plot.set_xlabel('Class %i' % i)\n",
    "plt.suptitle('Classification vector for...')"
   ]
  },
  {
   "cell_type": "code",
   "execution_count": 13,
   "id": "87cb9665",
   "metadata": {},
   "outputs": [
    {
     "data": {
      "text/plain": [
       "0.83975"
      ]
     },
     "execution_count": 13,
     "metadata": {},
     "output_type": "execute_result"
    }
   ],
   "source": [
    "# Training score\n",
    "y_pred_tuned = clf.predict(X_train)\n",
    "accuracy_score(y_train, y_pred_tuned)"
   ]
  },
  {
   "cell_type": "code",
   "execution_count": 14,
   "id": "52a01777",
   "metadata": {},
   "outputs": [
    {
     "data": {
      "text/plain": [
       "0.8401428571428572"
      ]
     },
     "execution_count": 14,
     "metadata": {},
     "output_type": "execute_result"
    }
   ],
   "source": [
    "# Test score\n",
    "y_pred_tuned = clf.predict(X_test)\n",
    "accuracy_score(y_test, y_pred_tuned)"
   ]
  },
  {
   "cell_type": "code",
   "execution_count": 15,
   "id": "de2ff82c",
   "metadata": {},
   "outputs": [
    {
     "name": "stdout",
     "output_type": "stream",
     "text": [
      "[[0.02264426 0.01901333 0.01528826 0.01933849 0.67505329 0.0454021\n",
      "  0.01927373 0.04245956 0.02942765 0.11209933]]\n",
      "['4']\n",
      "4\n"
     ]
    }
   ],
   "source": [
    "A = X_test[0,:]\n",
    "predictions = clf.predict_proba(A.reshape(1, -1))\n",
    "y_pred_tuned = clf.predict(A.reshape(1, -1))\n",
    "print(predictions)\n",
    "print(y_pred_tuned)\n",
    "print(y_test[0])"
   ]
  },
  {
   "cell_type": "code",
   "execution_count": 16,
   "id": "d9ae57e2",
   "metadata": {},
   "outputs": [
    {
     "name": "stdout",
     "output_type": "stream",
     "text": [
      "[[0.04683246 0.01522985 0.15330595 0.07667659 0.03879292 0.04518991\n",
      "  0.14765318 0.04012704 0.35007937 0.08611272]]\n"
     ]
    }
   ],
   "source": [
    "A=np.ones((1,784))\n",
    "predictions = clf.predict_proba(A)\n",
    "print(predictions)"
   ]
  },
  {
   "cell_type": "code",
   "execution_count": 15,
   "id": "f0392b20",
   "metadata": {},
   "outputs": [
    {
     "ename": "NameError",
     "evalue": "name 'clf' is not defined",
     "output_type": "error",
     "traceback": [
      "\u001b[0;31m---------------------------------------------------------------------------\u001b[0m",
      "\u001b[0;31mNameError\u001b[0m                                 Traceback (most recent call last)",
      "\u001b[0;32m/tmp/ipykernel_6830/1492083811.py\u001b[0m in \u001b[0;36m<module>\u001b[0;34m\u001b[0m\n\u001b[1;32m      1\u001b[0m \u001b[0;32mfrom\u001b[0m \u001b[0mjoblib\u001b[0m \u001b[0;32mimport\u001b[0m \u001b[0mdump\u001b[0m\u001b[0;34m,\u001b[0m \u001b[0mload\u001b[0m\u001b[0;34m\u001b[0m\u001b[0;34m\u001b[0m\u001b[0m\n\u001b[1;32m      2\u001b[0m \u001b[0;34m\u001b[0m\u001b[0m\n\u001b[0;32m----> 3\u001b[0;31m \u001b[0mdump\u001b[0m\u001b[0;34m(\u001b[0m\u001b[0mclf\u001b[0m\u001b[0;34m,\u001b[0m \u001b[0;34m\"logres.m5\"\u001b[0m\u001b[0;34m)\u001b[0m\u001b[0;34m\u001b[0m\u001b[0;34m\u001b[0m\u001b[0m\n\u001b[0m\u001b[1;32m      4\u001b[0m \u001b[0mnp\u001b[0m\u001b[0;34m.\u001b[0m\u001b[0msave\u001b[0m\u001b[0;34m(\u001b[0m\u001b[0;34m\"logres_mean.npy\"\u001b[0m\u001b[0;34m,\u001b[0m \u001b[0mscaler\u001b[0m\u001b[0;34m.\u001b[0m\u001b[0mmean_\u001b[0m\u001b[0;34m)\u001b[0m\u001b[0;34m\u001b[0m\u001b[0;34m\u001b[0m\u001b[0m\n\u001b[1;32m      5\u001b[0m \u001b[0mnp\u001b[0m\u001b[0;34m.\u001b[0m\u001b[0msave\u001b[0m\u001b[0;34m(\u001b[0m\u001b[0;34m\"logres_var.npy\"\u001b[0m\u001b[0;34m,\u001b[0m \u001b[0mscaler\u001b[0m\u001b[0;34m.\u001b[0m\u001b[0mvar_\u001b[0m\u001b[0;34m)\u001b[0m\u001b[0;34m\u001b[0m\u001b[0;34m\u001b[0m\u001b[0m\n",
      "\u001b[0;31mNameError\u001b[0m: name 'clf' is not defined"
     ]
    }
   ],
   "source": [
    "from joblib import dump, load\n",
    "\n",
    "dump(clf, \"logres.m5\")\n",
    "np.save(\"logres_mean.npy\", scaler.mean_)\n",
    "np.save(\"logres_var.npy\", scaler.var_)\n",
    "np.save(\"logres_scale.npy\", scaler.scale_)"
   ]
  },
  {
   "cell_type": "code",
   "execution_count": 17,
   "id": "9d677a1d",
   "metadata": {},
   "outputs": [
    {
     "ename": "NameError",
     "evalue": "name 'X_test' is not defined",
     "output_type": "error",
     "traceback": [
      "\u001b[0;31m---------------------------------------------------------------------------\u001b[0m",
      "\u001b[0;31mNameError\u001b[0m                                 Traceback (most recent call last)",
      "\u001b[0;32m/tmp/ipykernel_6830/3506724980.py\u001b[0m in \u001b[0;36m<module>\u001b[0;34m\u001b[0m\n\u001b[1;32m      3\u001b[0m \u001b[0;34m\u001b[0m\u001b[0m\n\u001b[1;32m      4\u001b[0m \u001b[0;31m# Calculate the accuracy and predictions\u001b[0m\u001b[0;34m\u001b[0m\u001b[0;34m\u001b[0m\u001b[0;34m\u001b[0m\u001b[0m\n\u001b[0;32m----> 5\u001b[0;31m \u001b[0mscore\u001b[0m \u001b[0;34m=\u001b[0m \u001b[0mjoblib_model\u001b[0m\u001b[0;34m.\u001b[0m\u001b[0mscore\u001b[0m\u001b[0;34m(\u001b[0m\u001b[0mX_test\u001b[0m\u001b[0;34m,\u001b[0m \u001b[0my_test\u001b[0m\u001b[0;34m)\u001b[0m\u001b[0;34m\u001b[0m\u001b[0;34m\u001b[0m\u001b[0m\n\u001b[0m\u001b[1;32m      6\u001b[0m \u001b[0mprint\u001b[0m\u001b[0;34m(\u001b[0m\u001b[0;34m\"Test score: {0:.2f} %\"\u001b[0m\u001b[0;34m.\u001b[0m\u001b[0mformat\u001b[0m\u001b[0;34m(\u001b[0m\u001b[0;36m100\u001b[0m \u001b[0;34m*\u001b[0m \u001b[0mscore\u001b[0m\u001b[0;34m)\u001b[0m\u001b[0;34m)\u001b[0m\u001b[0;34m\u001b[0m\u001b[0;34m\u001b[0m\u001b[0m\n",
      "\u001b[0;31mNameError\u001b[0m: name 'X_test' is not defined"
     ]
    }
   ],
   "source": [
    "# Load from file\n",
    "joblib_model = load(\"logres.m5\")\n",
    "\n",
    "# Calculate the accuracy and predictions\n",
    "score = joblib_model.score(X_test, y_test)\n",
    "print(\"Test score: {0:.2f} %\".format(100 * score))"
   ]
  },
  {
   "cell_type": "code",
   "execution_count": 31,
   "id": "c1294c8a",
   "metadata": {},
   "outputs": [
    {
     "name": "stdout",
     "output_type": "stream",
     "text": [
      "(784,)\n"
     ]
    }
   ],
   "source": [
    "A = X_test[0,:]\n",
    "A.reshape(1, -1)\n",
    "print(A.shape)"
   ]
  },
  {
   "cell_type": "code",
   "execution_count": 46,
   "id": "db5c3cf8",
   "metadata": {
    "scrolled": true
   },
   "outputs": [
    {
     "name": "stdout",
     "output_type": "stream",
     "text": [
      "(1, 28, 28)\n"
     ]
    },
    {
     "data": {
      "image/png": "[encoded data removed]",
      "text/plain": [
       "<Figure size 432x288 with 1 Axes>"
      ]
     },
     "metadata": {},
     "output_type": "display_data"
    }
   ],
   "source": [
    "A=np.array([[0, 0, 0, 0, 0, 0, 0, 0, 0, 0, 0, 0, 0, 0, 0, 0, 0, 0, 0, 0, 0, 0, 0, 0, 0, 0, 0, 0, 0, 0, 0, 0, 0, 0, 0, 0, 0, 0, 0, 0, 0, 0, 0, 0, 0, 0, 0, 0, 0, 0, 0, 0, 0, 0, 0, 0, 0, 0, 0, 0, 0, 0, 0, 0, 0, 0, 0, 0, 0, 0, 0, 0, 0, 0, 0, 0, 0, 0, 0, 0, 0, 0, 0, 0, 0, 0, 0, 0, 0, 0, 0, 0, 0, 0, 0, 0, 0, 0, 0, 0, 0, 0, 0, 0, 0, 0, 0, 0, 0, 0, 0, 0, 0, 0, 0, 0, 0, 0, 0, 0, 0, 0, 0, 0, 0, 0, 0, 0, 0, 0, 0, 0, 0, 0, 0, 0, 0, 0, 0, 0, 0, 0, 0, 0, 0, 0, 0, 0, 0, 0, 0, 0, 0, 0, 0, 0, 0, 0, 0, 0, 0, 0, 0, 0, 0, 0, 0, 0, 0, 0, 0, 0, 0, 0, 0, 0, 0, 0, 0, 0, 0, 0, 0, 0, 0, 0, 0, 0, 0, 0, 0, 0, 0, 0, 0, 0, 0, 0, 0, 0, 0, 0, 0, 0, 0, 0, 0, 0, 0, 0, 0, 255, 255, 0, 0, 0, 0, 0, 0, 0, 0, 0, 0, 0, 0, 0, 0, 0, 0, 0, 0, 0, 0, 0, 0, 0, 0, 0, 255, 255, 255, 255, 128, 22, 0, 0, 0, 0, 0, 0, 0, 0, 0, 0, 0, 0, 0, 0, 0, 0, 0, 0, 0, 0, 0, 255, 255, 0, 0, 255, 255, 128, 0, 0, 0, 0, 0, 0, 0, 0, 0, 0, 0, 0, 0, 0, 0, 0, 0, 0, 0, 0, 255, 255, 0, 0, 0, 22, 128, 255, 255, 0, 0, 0, 0, 0, 0, 0, 0, 0, 0, 0, 0, 0, 0, 0, 0, 0, 0, 0, 255, 255, 255, 0, 0, 0, 0, 255, 255, 0, 0, 255, 255, 0, 0, 0, 0, 0, 0, 0, 0, 0, 0, 0, 0, 0, 0, 0, 0, 255, 255, 255, 0, 0, 0, 0, 0, 0, 255, 255, 255, 0, 0, 0, 0, 0, 0, 0, 0, 0, 0, 0, 0, 0, 0, 0, 0, 0, 255, 255, 65, 0, 0, 0, 0, 0, 255, 255, 255, 0, 0, 0, 0, 0, 0, 0, 0, 0, 0, 0, 0, 0, 0, 0, 0, 0, 92, 255, 255, 135, 0, 0, 0, 0, 255, 255, 255, 0, 0, 0, 0, 0, 0, 0, 0, 0, 0, 0, 0, 0, 0, 0, 0, 0, 0, 136, 255, 255, 255, 255, 255, 255, 255, 255, 255, 0, 0, 0, 0, 0, 0, 0, 0, 0, 0, 0, 0, 0, 0, 0, 0, 0, 0, 0, 65, 163, 255, 255, 255, 255, 255, 255, 255, 0, 0, 0, 0, 0, 0, 0, 0, 0, 0, 0, 0, 0, 0, 0, 0, 0, 0, 0, 0, 0, 0, 0, 0, 0, 0, 255, 255, 0, 0, 0, 0, 0, 0, 0, 0, 0, 0, 0, 0, 0, 0, 0, 0, 0, 0, 0, 0, 0, 0, 0, 0, 0, 0, 255, 255, 0, 0, 0, 0, 0, 0, 0, 0, 0, 0, 0, 0, 0, 0, 0, 0, 0, 0, 0, 0, 0, 0, 0, 0, 0, 97, 255, 184, 0, 0, 0, 0, 0, 0, 0, 0, 0, 0, 0, 0, 0, 0, 0, 0, 0, 0, 0, 0, 0, 0, 0, 0, 0, 184, 255, 98, 0, 0, 0, 0, 0, 0, 0, 0, 0, 0, 0, 0, 0, 0, 0, 0, 0, 0, 0, 0, 0, 0, 0, 0, 0, 255, 255, 0, 0, 0, 0, 0, 0, 0, 0, 0, 0, 0, 0, 0, 0, 0, 0, 0, 0, 0, 0, 0, 0, 0, 0, 0, 0, 255, 255, 0, 0, 0, 0, 0, 0, 0, 0, 0, 0, 0, 0, 0, 0, 0, 0, 0, 0, 0, 0, 0, 0, 0, 0, 0, 0, 255, 255, 0, 0, 0, 0, 0, 0, 0, 0, 0, 0, 0, 0, 0, 0, 0, 0, 0, 0, 0, 0, 0, 0, 0, 0, 0, 0, 255, 255, 0, 0, 0, 0, 0, 0, 0, 0, 0, 0, 0, 0, 0, 0, 0, 0, 0, 0, 0, 0, 0, 0, 0, 0, 0, 0, 255, 255, 0, 0, 0, 0, 0, 0, 0, 0, 0, 0, 0, 0, 0, 0, 0, 0, 0, 0, 0, 0, 0, 0, 0, 0, 0, 0, 255, 255, 0, 0, 0, 0, 0, 0, 0, 0, 0, 0, 0, 0, 0, 0, 0, 0, 0, 0, 0, 0, 0, 0, 0, 0, 0, 0, 255, 0, 0, 0, 0, 0]]).reshape(1,-1)\n",
    "B = A.reshape(1,28,28)\n",
    "print(B.shape)\n",
    "for i in range(B.shape[0]):\n",
    "    subplt = plt.subplot(1, B.shape[0], i + 1)\n",
    "    subplt.imshow(B[i,:,:])  \n",
    "    subplt.set_xticks(())\n",
    "    subplt.set_yticks(())\n",
    "plt.show()"
   ]
  },
  {
   "cell_type": "code",
   "execution_count": 49,
   "id": "41bf6b22",
   "metadata": {},
   "outputs": [
    {
     "name": "stdout",
     "output_type": "stream",
     "text": [
      "[[0.18757257 0.14988402 0.18941716 0.10889873 0.04226815 0.05794351\n",
      "  0.04816787 0.12811853 0.0119545  0.07577496]]\n",
      "['0' '1' '2' '3' '4' '5' '6' '7' '8' '9']\n",
      "{'class': array(['0', '1', '2', '3', '4', '5', '6', '7', '8', '9'], dtype=object), 'prob': array([0.18757257, 0.14988402, 0.18941716, 0.10889873, 0.04226815,\n",
      "       0.05794351, 0.04816787, 0.12811853, 0.0119545 , 0.07577496])}\n"
     ]
    }
   ],
   "source": [
    "joblib_model = load(\"logres.m5\")\n",
    "\n",
    "print(joblib_model.predict_proba(scaler.transform(A)))\n",
    "print(joblib_model.classes_)\n",
    "C = {\n",
    "    \"class\":joblib_model.classes_,\n",
    "    \"prob\":joblib_model.predict_proba(scaler.transform(A)) [0]\n",
    "}\n",
    "print(C)"
   ]
  },
  {
   "cell_type": "code",
   "execution_count": 38,
   "id": "7d01a55d",
   "metadata": {},
   "outputs": [
    {
     "name": "stdout",
     "output_type": "stream",
     "text": [
      "(1, 28, 28)\n"
     ]
    }
   ],
   "source": [
    "print(B.shape)"
   ]
  },
  {
   "cell_type": "code",
   "execution_count": 71,
   "id": "01903ff6",
   "metadata": {},
   "outputs": [
    {
     "name": "stdout",
     "output_type": "stream",
     "text": [
      "[1.00000000e+00 1.00000000e+00 1.00000000e+00 1.00000000e+00\n",
      " 1.00000000e+00 1.00000000e+00 1.00000000e+00 1.00000000e+00\n",
      " 1.00000000e+00 1.00000000e+00 1.00000000e+00 1.00000000e+00\n",
      " 4.92002405e-01 1.40895133e+00 9.12758445e-01 3.80316019e-02\n",
      " 1.00000000e+00 1.00000000e+00 1.00000000e+00 1.00000000e+00\n",
      " 1.00000000e+00 1.00000000e+00 1.00000000e+00 1.00000000e+00\n",
      " 1.00000000e+00 1.00000000e+00 1.00000000e+00 1.00000000e+00\n",
      " 1.00000000e+00 1.00000000e+00 1.00000000e+00 1.00000000e+00\n",
      " 6.76117367e-02 2.55401329e-01 1.32170599e+00 2.09983686e+00\n",
      " 3.24004022e+00 3.32133418e+00 5.06398154e+00 5.50496997e+00\n",
      " 6.11782824e+00 5.76555668e+00 6.33962565e+00 6.03849756e+00\n",
      " 5.57812121e+00 5.20732092e+00 4.65196774e+00 3.50872643e+00\n",
      " 2.81342735e+00 1.99051514e+00 1.25374057e+00 8.34878065e-01\n",
      " 1.00000000e+00 1.00000000e+00 1.00000000e+00 1.00000000e+00\n",
      " 1.00000000e+00 1.00000000e+00 2.70446947e-01 1.34295018e-01\n",
      " 6.26035854e-01 1.07620821e+00 2.75666331e+00 4.90493367e+00\n",
      " 7.15165833e+00 9.71951062e+00 1.30287992e+01 1.61351184e+01\n",
      " 1.89155927e+01 2.19964765e+01 2.46953445e+01 2.61378358e+01\n",
      " 2.65813792e+01 2.52414056e+01 2.27514492e+01 1.99870583e+01\n",
      " 1.52313228e+01 1.08777356e+01 7.42406952e+00 4.00377900e+00\n",
      " 2.36808508e+00 1.01377326e+00 1.00000000e+00 1.00000000e+00\n",
      " 1.00000000e+00 1.00000000e+00 5.97638021e-01 6.81318621e-01\n",
      " 1.03921182e+00 3.08047196e+00 6.04105333e+00 9.96691385e+00\n",
      " 1.47894295e+01 2.08187279e+01 2.68471294e+01 3.28813043e+01\n",
      " 3.82877188e+01 4.33620794e+01 4.77061328e+01 5.04100214e+01\n",
      " 4.94666844e+01 4.67103065e+01 4.22503000e+01 3.63566145e+01\n",
      " 2.81673104e+01 2.06189429e+01 1.39062438e+01 8.87865845e+00\n",
      " 5.36113714e+00 1.94317612e+00 5.48528812e-01 1.00000000e+00\n",
      " 1.00000000e+00 1.60577875e-01 3.23833459e-01 9.62558306e-01\n",
      " 3.82102016e+00 7.89478660e+00 1.31676804e+01 2.09801657e+01\n",
      " 2.99650558e+01 3.99296770e+01 5.03563665e+01 6.03956203e+01\n",
      " 6.97609084e+01 7.82451388e+01 8.42674659e+01 8.68042972e+01\n",
      " 8.56241004e+01 8.10355183e+01 7.34738180e+01 6.39559682e+01\n",
      " 5.20476379e+01 3.98264823e+01 2.88084709e+01 1.96640556e+01\n",
      " 1.21542544e+01 5.53155948e+00 2.30854501e+00 2.66221213e-01\n",
      " 1.00000000e+00 1.01417605e-01 5.74260780e-01 2.58785319e+00\n",
      " 7.83038975e+00 1.63771032e+01 2.59274333e+01 3.69250462e+01\n",
      " 4.94376498e+01 6.24809440e+01 7.50978214e+01 8.64435237e+01\n",
      " 9.60891421e+01 1.03346883e+02 1.07420749e+02 1.08697189e+02\n",
      " 1.07987300e+02 1.05160495e+02 9.88823738e+01 8.93012631e+01\n",
      " 7.66530692e+01 6.18350329e+01 4.78059054e+01 3.49807970e+01\n",
      " 2.29383787e+01 1.11553094e+01 4.56665238e+00 4.37863767e-01\n",
      " 1.00000000e+00 3.40686909e-02 1.55286712e+00 6.22481958e+00\n",
      " 1.45968655e+01 2.50406658e+01 3.74929475e+01 5.19179100e+01\n",
      " 6.67430131e+01 8.08287669e+01 9.28521453e+01 1.01819164e+02\n",
      " 1.07784541e+02 1.11091909e+02 1.12151284e+02 1.12325036e+02\n",
      " 1.12327926e+02 1.12179339e+02 1.09852635e+02 1.03556156e+02\n",
      " 9.28879828e+01 7.78691051e+01 6.18492031e+01 4.58908561e+01\n",
      " 3.12510734e+01 1.75646049e+01 8.12312525e+00 2.07933292e+00\n",
      " 1.98609477e-01 1.56285262e+00 4.49760089e+00 1.06368285e+01\n",
      " 2.09189094e+01 3.34692233e+01 4.79364710e+01 6.38273765e+01\n",
      " 7.91360344e+01 9.25301611e+01 1.01892357e+02 1.07507509e+02\n",
      " 1.09956035e+02 1.10425774e+02 1.10458446e+02 1.10124509e+02\n",
      " 1.10132214e+02 1.10693655e+02 1.11010200e+02 1.08619914e+02\n",
      " 1.00897273e+02 8.77080773e+01 7.03876135e+01 5.26969483e+01\n",
      " 3.56447948e+01 2.12390772e+01 9.48159998e+00 2.24765063e+00\n",
      " 8.37608595e-01 2.89664847e+00 7.75844357e+00 1.57272234e+01\n",
      " 2.69876091e+01 4.01234834e+01 5.58070642e+01 7.24741165e+01\n",
      " 8.81253927e+01 1.00337501e+02 1.07401709e+02 1.10552609e+02\n",
      " 1.11253954e+02 1.11457925e+02 1.11338441e+02 1.10896560e+02\n",
      " 1.10665589e+02 1.11060926e+02 1.11388299e+02 1.10133939e+02\n",
      " 1.04397274e+02 9.20750147e+01 7.44251847e+01 5.45459965e+01\n",
      " 3.62589953e+01 2.17656807e+01 9.28056730e+00 2.40667434e+00\n",
      " 8.56751265e-01 3.70470089e+00 9.80448214e+00 1.84742740e+01\n",
      " 2.95724590e+01 4.33558041e+01 6.03099504e+01 7.79899845e+01\n",
      " 9.37866869e+01 1.04756908e+02 1.10108340e+02 1.11500250e+02\n",
      " 1.11373116e+02 1.10078466e+02 1.09080604e+02 1.08666335e+02\n",
      " 1.09191294e+02 1.10684294e+02 1.11273925e+02 1.09873958e+02\n",
      " 1.04516185e+02 9.24879348e+01 7.42462240e+01 5.28142643e+01\n",
      " 3.27638033e+01 1.82551552e+01 7.79685249e+00 2.29083077e+00\n",
      " 1.21939147e+00 4.69340270e+00 9.77771813e+00 1.77610643e+01\n",
      " 2.88200836e+01 4.32423739e+01 6.15897484e+01 8.03743562e+01\n",
      " 9.67122407e+01 1.06711629e+02 1.10590252e+02 1.10810385e+02\n",
      " 1.07989035e+02 1.04015199e+02 1.03005891e+02 1.05113109e+02\n",
      " 1.07397112e+02 1.09939766e+02 1.10515290e+02 1.09076529e+02\n",
      " 1.02467702e+02 8.97843812e+01 7.13713931e+01 4.95446857e+01\n",
      " 2.86588583e+01 1.42632925e+01 6.74742407e+00 2.15536429e+00\n",
      " 8.70506183e-01 3.90222508e+00 8.99111583e+00 1.53358544e+01\n",
      " 2.60398395e+01 4.23061733e+01 6.23300481e+01 8.25764096e+01\n",
      " 9.92308850e+01 1.07930553e+02 1.10355031e+02 1.08974138e+02\n",
      " 1.04049734e+02 1.00041786e+02 1.02687449e+02 1.06584587e+02\n",
      " 1.08072456e+02 1.09938800e+02 1.10429690e+02 1.07852388e+02\n",
      " 9.90395404e+01 8.50574896e+01 6.82890139e+01 4.84861027e+01\n",
      " 2.66335731e+01 1.00065230e+01 4.95304975e+00 9.46543238e-01\n",
      " 7.41536432e-01 2.88016006e+00 6.97520913e+00 1.25830817e+01\n",
      " 2.38124295e+01 4.25083352e+01 6.46190780e+01 8.58826994e+01\n",
      " 1.01658455e+02 1.09208625e+02 1.10383858e+02 1.08279267e+02\n",
      " 1.03970630e+02 1.03071877e+02 1.08948744e+02 1.10866380e+02\n",
      " 1.09879652e+02 1.11158940e+02 1.11280670e+02 1.06352793e+02\n",
      " 9.50264602e+01 8.13186637e+01 6.67129759e+01 4.95410824e+01\n",
      " 2.79329439e+01 8.67467696e+00 3.65207236e+00 1.05447118e+00\n",
      " 1.35223473e-01 1.80253788e+00 4.79350767e+00 1.06864855e+01\n",
      " 2.31958067e+01 4.46572188e+01 6.84058918e+01 8.91769732e+01\n",
      " 1.03565503e+02 1.09608339e+02 1.10290041e+02 1.08428144e+02\n",
      " 1.06462690e+02 1.08807717e+02 1.13937013e+02 1.11642169e+02\n",
      " 1.09952833e+02 1.12121981e+02 1.11638866e+02 1.04695087e+02\n",
      " 9.29824534e+01 8.05679756e+01 6.73351414e+01 5.15388585e+01\n",
      " 3.05219345e+01 1.00342118e+01 3.45983025e+00 1.10379274e+00\n",
      " 4.77507890e-01 1.03746460e+00 2.97968702e+00 9.14404386e+00\n",
      " 2.36169952e+01 4.79443292e+01 7.19211572e+01 9.15339532e+01\n",
      " 1.04238981e+02 1.09434901e+02 1.09611562e+02 1.08516953e+02\n",
      " 1.08274776e+02 1.11555520e+02 1.13746941e+02 1.09590225e+02\n",
      " 1.09916350e+02 1.12512841e+02 1.11182631e+02 1.04312475e+02\n",
      " 9.39646163e+01 8.26321174e+01 6.92896711e+01 5.32877553e+01\n",
      " 3.26402697e+01 1.16705274e+01 3.81134377e+00 2.47591561e-01\n",
      " 1.59125143e-01 9.55351832e-01 2.58391823e+00 9.21742732e+00\n",
      " 2.53327498e+01 5.16574043e+01 7.46938757e+01 9.21806566e+01\n",
      " 1.03271829e+02 1.08122984e+02 1.08527902e+02 1.08370885e+02\n",
      " 1.09646608e+02 1.12773256e+02 1.12647719e+02 1.09395755e+02\n",
      " 1.11443375e+02 1.12693457e+02 1.09890644e+02 1.04268972e+02\n",
      " 9.57536997e+01 8.49714325e+01 7.08099953e+01 5.34064508e+01\n",
      " 3.30191765e+01 1.38370025e+01 4.93269651e+00 9.41456940e-01\n",
      " 1.69029342e-01 6.11439273e-01 3.62462823e+00 9.82181121e+00\n",
      " 2.81057640e+01 5.51778095e+01 7.65637320e+01 9.12596811e+01\n",
      " 1.00547451e+02 1.04974008e+02 1.06145494e+02 1.07258919e+02\n",
      " 1.10100612e+02 1.12947234e+02 1.12721208e+02 1.11200629e+02\n",
      " 1.12256012e+02 1.11381528e+02 1.08540056e+02 1.04397317e+02\n",
      " 9.71851753e+01 8.53700317e+01 7.02860606e+01 5.19445797e+01\n",
      " 3.21393955e+01 1.52512763e+01 5.46180762e+00 1.20591471e+00\n",
      " 1.00000000e+00 4.42624073e-01 4.64467475e+00 1.26139503e+01\n",
      " 3.29619520e+01 5.86024662e+01 7.75650479e+01 8.98859183e+01\n",
      " 9.74556874e+01 1.01685333e+02 1.03436545e+02 1.05484226e+02\n",
      " 1.08577089e+02 1.10952166e+02 1.11991735e+02 1.11715938e+02\n",
      " 1.11165217e+02 1.09891276e+02 1.08561066e+02 1.04965320e+02\n",
      " 9.70961276e+01 8.41194608e+01 6.77365674e+01 4.89853458e+01\n",
      " 3.02231513e+01 1.57600242e+01 5.37088671e+00 1.02928134e+00\n",
      " 2.53860519e-01 2.34588695e-01 5.21572046e+00 1.67555052e+01\n",
      " 3.79290894e+01 6.18578244e+01 7.92392529e+01 9.02227438e+01\n",
      " 9.64574335e+01 1.00279338e+02 1.03003698e+02 1.05001058e+02\n",
      " 1.06561907e+02 1.09275505e+02 1.11176870e+02 1.10907604e+02\n",
      " 1.10356591e+02 1.10261902e+02 1.09420392e+02 1.05228802e+02\n",
      " 9.56096179e+01 8.14297164e+01 6.45918372e+01 4.57510422e+01\n",
      " 2.82687492e+01 1.49372961e+01 4.74784032e+00 1.20183430e+00\n",
      " 6.33860032e-02 8.39922798e-01 6.55764764e+00 1.95642486e+01\n",
      " 4.06879336e+01 6.40621807e+01 8.13311362e+01 9.24440636e+01\n",
      " 9.88492732e+01 1.02968591e+02 1.05735937e+02 1.07293820e+02\n",
      " 1.08603517e+02 1.10329657e+02 1.11474876e+02 1.11124014e+02\n",
      " 1.10691609e+02 1.11231764e+02 1.09382870e+02 1.02966890e+02\n",
      " 9.16950944e+01 7.63434196e+01 5.90911686e+01 4.11345868e+01\n",
      " 2.55739727e+01 1.34592622e+01 5.06684372e+00 8.83639944e-01\n",
      " 1.00000000e+00 1.29749846e+00 7.29115895e+00 2.03351056e+01\n",
      " 4.02993429e+01 6.22710659e+01 8.13286101e+01 9.43374459e+01\n",
      " 1.02374578e+02 1.06680518e+02 1.09220965e+02 1.10489073e+02\n",
      " 1.11242100e+02 1.11424879e+02 1.11449548e+02 1.11251780e+02\n",
      " 1.11282222e+02 1.10720556e+02 1.06787172e+02 9.78687068e+01\n",
      " 8.38828602e+01 6.73445217e+01 5.04056721e+01 3.47041487e+01\n",
      " 2.22872302e+01 1.14827448e+01 4.39877383e+00 2.11286677e-01\n",
      " 1.00000000e+00 1.18017269e+00 6.75777440e+00 1.84420823e+01\n",
      " 3.50115578e+01 5.61905207e+01 7.64958928e+01 9.27040863e+01\n",
      " 1.03182721e+02 1.08831019e+02 1.11206167e+02 1.11666660e+02\n",
      " 1.11186693e+02 1.10194858e+02 1.10612811e+02 1.10975734e+02\n",
      " 1.10723128e+02 1.07711320e+02 9.99486621e+01 8.72448625e+01\n",
      " 7.14129132e+01 5.46517566e+01 3.98413316e+01 2.75461010e+01\n",
      " 1.77236627e+01 8.82023324e+00 3.14488140e+00 1.64803608e-01\n",
      " 1.00000000e+00 1.61464752e-01 5.14502408e+00 1.36107224e+01\n",
      " 2.63977179e+01 4.45431590e+01 6.45265494e+01 8.32886035e+01\n",
      " 9.77593158e+01 1.06989975e+02 1.11636073e+02 1.12948013e+02\n",
      " 1.12493882e+02 1.12146847e+02 1.12339736e+02 1.11351133e+02\n",
      " 1.07520787e+02 9.95044020e+01 8.68156513e+01 7.14508253e+01\n",
      " 5.55156962e+01 4.11518315e+01 2.91430597e+01 1.99387710e+01\n",
      " 1.17407377e+01 5.49511620e+00 1.60845356e+00 3.04252815e-01\n",
      " 1.00000000e+00 1.01417605e-01 2.38687607e+00 7.57798786e+00\n",
      " 1.70433238e+01 2.96975796e+01 4.57185120e+01 6.41334088e+01\n",
      " 8.16449058e+01 9.53653809e+01 1.04320241e+02 1.08988701e+02\n",
      " 1.10450286e+02 1.10284916e+02 1.08192929e+02 1.03360056e+02\n",
      " 9.43839157e+01 8.20042642e+01 6.73594543e+01 5.26302669e+01\n",
      " 3.97492610e+01 2.86133632e+01 1.98837552e+01 1.29503040e+01\n",
      " 6.70407697e+00 2.88916733e+00 6.63938923e-01 1.00000000e+00\n",
      " 1.00000000e+00 1.00000000e+00 1.11892964e+00 3.98199076e+00\n",
      " 8.94204280e+00 1.67297671e+01 2.70215212e+01 4.04598064e+01\n",
      " 5.49433385e+01 6.90364953e+01 8.04250091e+01 8.76125468e+01\n",
      " 9.08496936e+01 9.07088231e+01 8.68404659e+01 7.90588377e+01\n",
      " 6.99379812e+01 5.92407140e+01 4.72767126e+01 3.70001251e+01\n",
      " 2.70670810e+01 1.92255691e+01 1.30887779e+01 8.17924236e+00\n",
      " 3.59427671e+00 1.75565390e+00 7.60632038e-02 1.00000000e+00\n",
      " 1.00000000e+00 1.00000000e+00 6.76117367e-02 1.59173059e+00\n",
      " 4.70934836e+00 9.19046207e+00 1.60495905e+01 2.44101324e+01\n",
      " 3.46176519e+01 4.36660654e+01 5.13753276e+01 5.64754998e+01\n",
      " 5.91460582e+01 5.88368052e+01 5.54109437e+01 5.01411590e+01\n",
      " 4.54042700e+01 3.88823499e+01 3.14301543e+01 2.43479262e+01\n",
      " 1.78668706e+01 1.25399418e+01 7.98224530e+00 4.71951938e+00\n",
      " 1.71390923e+00 5.36668160e-01 1.00000000e+00 1.00000000e+00\n",
      " 1.00000000e+00 1.00000000e+00 1.00000000e+00 1.60577875e-01\n",
      " 2.18023400e+00 5.38996078e+00 1.00178999e+01 1.48901016e+01\n",
      " 2.11981872e+01 2.59899856e+01 3.01204896e+01 3.36253540e+01\n",
      " 3.54202268e+01 3.51531978e+01 3.29311603e+01 2.89757552e+01\n",
      " 2.64386460e+01 2.24449371e+01 1.76238574e+01 1.37171164e+01\n",
      " 1.05554807e+01 6.84111407e+00 3.46117222e+00 1.61547911e+00\n",
      " 1.52475989e-01 1.00000000e+00 1.00000000e+00 1.00000000e+00\n",
      " 1.00000000e+00 1.00000000e+00 1.00000000e+00 1.00000000e+00\n",
      " 4.51913087e-01 1.67481375e+00 2.32229083e+00 3.67043969e+00\n",
      " 4.64560925e+00 6.01722524e+00 7.42624363e+00 8.83082179e+00\n",
      " 9.74227202e+00 1.03706427e+01 1.13155774e+01 1.07502740e+01\n",
      " 9.76756042e+00 8.23254922e+00 6.09140429e+00 4.28268269e+00\n",
      " 2.51416448e+00 1.30676296e+00 1.34951385e+00 2.61995480e-01\n",
      " 1.00000000e+00 1.00000000e+00 1.00000000e+00 1.00000000e+00]\n"
     ]
    }
   ],
   "source": [
    "scaler2=StandardScaler()\n",
    "scaler2.mean_ = scaler.mean_\n",
    "print(scaler.scale_)"
   ]
  },
  {
   "cell_type": "code",
   "execution_count": 69,
   "id": "f47a8761",
   "metadata": {},
   "outputs": [
    {
     "data": {
      "text/plain": [
       "array([0.00000000e+00, 0.00000000e+00, 0.00000000e+00, 0.00000000e+00,\n",
       "       0.00000000e+00, 0.00000000e+00, 0.00000000e+00, 0.00000000e+00,\n",
       "       0.00000000e+00, 0.00000000e+00, 0.00000000e+00, 0.00000000e+00,\n",
       "       2.42066366e-01, 1.98514385e+00, 8.33127980e-01, 1.44640274e-03,\n",
       "       0.00000000e+00, 0.00000000e+00, 0.00000000e+00, 0.00000000e+00,\n",
       "       0.00000000e+00, 0.00000000e+00, 0.00000000e+00, 0.00000000e+00,\n",
       "       0.00000000e+00, 0.00000000e+00, 0.00000000e+00, 0.00000000e+00,\n",
       "       0.00000000e+00, 0.00000000e+00, 0.00000000e+00, 0.00000000e+00,\n",
       "       4.57134694e-03, 6.52298390e-02, 1.74690673e+00, 4.40931483e+00,\n",
       "       1.04978606e+01, 1.10312608e+01, 2.56439091e+01, 3.03046944e+01,\n",
       "       3.74278224e+01, 3.32416438e+01, 4.01908534e+01, 3.64634528e+01,\n",
       "       3.11154362e+01, 2.71161912e+01, 2.16408039e+01, 1.23111612e+01,\n",
       "       7.91537344e+00, 3.96215053e+00, 1.57186543e+00, 6.97021383e-01,\n",
       "       0.00000000e+00, 0.00000000e+00, 0.00000000e+00, 0.00000000e+00,\n",
       "       0.00000000e+00, 0.00000000e+00, 7.31415510e-02, 1.80351518e-02,\n",
       "       3.91920890e-01, 1.15822411e+00, 7.59919261e+00, 2.40583743e+01,\n",
       "       5.11462168e+01, 9.44688868e+01, 1.69749608e+02, 2.60342046e+02,\n",
       "       3.57799647e+02, 4.83844977e+02, 6.09860040e+02, 6.83186462e+02,\n",
       "       7.06569720e+02, 6.37128557e+02, 5.17628443e+02, 3.99482499e+02,\n",
       "       2.31993195e+02, 1.18325132e+02, 5.51168083e+01, 1.60302462e+01,\n",
       "       5.60782693e+00, 1.02773621e+00, 0.00000000e+00, 0.00000000e+00,\n",
       "       0.00000000e+00, 0.00000000e+00, 3.57171204e-01, 4.64195063e-01,\n",
       "       1.07996120e+00, 9.48930752e+00, 3.64943254e+01, 9.93393717e+01,\n",
       "       2.18727225e+02, 4.33419430e+02, 7.20768358e+02, 1.08118017e+03,\n",
       "       1.46594941e+03, 1.88026993e+03, 2.27587511e+03, 2.54117025e+03,\n",
       "       2.44695287e+03, 2.18185273e+03, 1.78508785e+03, 1.32180342e+03,\n",
       "       7.93397376e+02, 4.25140806e+02, 1.93383618e+02, 7.88305759e+01,\n",
       "       2.87417914e+01, 3.77593342e+00, 3.00883857e-01, 0.00000000e+00,\n",
       "       0.00000000e+00, 2.57852538e-02, 1.04868109e-01, 9.26518492e-01,\n",
       "       1.46001951e+01, 6.23276555e+01, 1.73387808e+02, 4.40167352e+02,\n",
       "       8.97904570e+02, 1.59437911e+03, 2.53576365e+03, 3.64763095e+03,\n",
       "       4.86658434e+03, 6.12230174e+03, 7.10100581e+03, 7.53498601e+03,\n",
       "       7.33148657e+03, 6.56675523e+03, 5.39840193e+03, 4.09036586e+03,\n",
       "       2.70895661e+03, 1.58614869e+03, 8.29927998e+02, 3.86675082e+02,\n",
       "       1.47725899e+02, 3.05981503e+01, 5.32938007e+00, 7.08737344e-02,\n",
       "       0.00000000e+00, 1.02855306e-02, 3.29775444e-01, 6.69698416e+00,\n",
       "       6.13150036e+01, 2.68209509e+02, 6.72231798e+02, 1.36345903e+03,\n",
       "       2.44408122e+03, 3.90386836e+03, 5.63968277e+03, 7.47248279e+03,\n",
       "       9.23312324e+03, 1.06805782e+04, 1.15392172e+04, 1.18150788e+04,\n",
       "       1.16612570e+04, 1.10587297e+04, 9.77772385e+03, 7.97471559e+03,\n",
       "       5.87569302e+03, 3.82357129e+03, 2.28540459e+03, 1.22365616e+03,\n",
       "       5.26169216e+02, 1.24440928e+02, 2.08543140e+01, 1.91724678e-01,\n",
       "       0.00000000e+00, 1.16067570e-03, 2.41139628e+00, 3.87483788e+01,\n",
       "       2.13068482e+02, 6.27034942e+02, 1.40572111e+03, 2.69546938e+03,\n",
       "       4.45462980e+03, 6.53328956e+03, 8.62152088e+03, 1.03671421e+04,\n",
       "       1.16175073e+04, 1.23414122e+04, 1.25779104e+04, 1.26169138e+04,\n",
       "       1.26175630e+04, 1.25842041e+04, 1.20676014e+04, 1.07238774e+04,\n",
       "       8.62817735e+03, 6.06359753e+03, 3.82532392e+03, 2.10597067e+03,\n",
       "       9.76629591e+02, 3.08515345e+02, 6.59851638e+01, 4.32362539e+00,\n",
       "       3.94457242e-02, 2.44250830e+00, 2.02284137e+01, 1.13142120e+02,\n",
       "       4.37600769e+02, 1.12018891e+03, 2.29790525e+03, 4.07393400e+03,\n",
       "       6.26251194e+03, 8.56183072e+03, 1.03820525e+04, 1.15578644e+04,\n",
       "       1.20903296e+04, 1.21938515e+04, 1.22010682e+04, 1.21274075e+04,\n",
       "       1.21291046e+04, 1.22530852e+04, 1.23232646e+04, 1.17982856e+04,\n",
       "       1.01802598e+04, 7.69270683e+03, 4.95441613e+03, 2.77696836e+03,\n",
       "       1.27055140e+03, 4.51098402e+02, 8.99007381e+01, 5.05193335e+00,\n",
       "       7.01588158e-01, 8.39057238e+00, 6.01934467e+01, 2.47345557e+02,\n",
       "       7.28331046e+02, 1.60989392e+03, 3.11442841e+03, 5.25249756e+03,\n",
       "       7.76608483e+03, 1.00676141e+04, 1.15351272e+04, 1.22218794e+04,\n",
       "       1.23774424e+04, 1.24228690e+04, 1.23962484e+04, 1.22980469e+04,\n",
       "       1.22468726e+04, 1.23345294e+04, 1.24073532e+04, 1.21294845e+04,\n",
       "       1.08987909e+04, 8.47780833e+03, 5.53910812e+03, 2.97526573e+03,\n",
       "       1.31471474e+03, 4.73744858e+02, 8.61289293e+01, 5.79208139e+00,\n",
       "       7.34022729e-01, 1.37248087e+01, 9.61278700e+01, 3.41298801e+02,\n",
       "       8.74530332e+02, 1.87972575e+03, 3.63729012e+03, 6.08243769e+03,\n",
       "       8.79594264e+03, 1.09740098e+04, 1.21238466e+04, 1.24323058e+04,\n",
       "       1.24039710e+04, 1.21172687e+04, 1.18985782e+04, 1.18083724e+04,\n",
       "       1.19227386e+04, 1.22510130e+04, 1.23818863e+04, 1.20722867e+04,\n",
       "       1.09236328e+04, 8.55401808e+03, 5.51250178e+03, 2.78934652e+03,\n",
       "       1.07346681e+03, 3.33250692e+02, 6.07909087e+01, 5.24790561e+00,\n",
       "       1.48691555e+00, 2.20280289e+01, 9.56037718e+01, 3.15455406e+02,\n",
       "       8.30597219e+02, 1.86990290e+03, 3.79329711e+03, 6.46003713e+03,\n",
       "       9.35325751e+03, 1.13873718e+04, 1.22302038e+04, 1.22789415e+04,\n",
       "       1.16616318e+04, 1.08191617e+04, 1.06102136e+04, 1.10487656e+04,\n",
       "       1.15341397e+04, 1.20867522e+04, 1.22136293e+04, 1.18976891e+04,\n",
       "       1.04996299e+04, 8.06123511e+03, 5.09387575e+03, 2.45467588e+03,\n",
       "       8.21330157e+02, 2.03441512e+02, 4.55277316e+01, 4.64559522e+00,\n",
       "       7.57781015e-01, 1.52273606e+01, 8.08401639e+01, 2.35188432e+02,\n",
       "       6.78073241e+02, 1.78981230e+03, 3.88503490e+03, 6.81886342e+03,\n",
       "       9.84676854e+03, 1.16490044e+04, 1.21782329e+04, 1.18753627e+04,\n",
       "       1.08263472e+04, 1.00083588e+04, 1.05447121e+04, 1.13602741e+04,\n",
       "       1.16796557e+04, 1.20865397e+04, 1.21947165e+04, 1.16321375e+04,\n",
       "       9.80883057e+03, 7.23477653e+03, 4.66338942e+03, 2.35090215e+03,\n",
       "       7.09347218e+02, 1.00130503e+02, 2.45327018e+01, 8.95944102e-01,\n",
       "       5.49876281e-01, 8.29532196e+00, 4.86535424e+01, 1.58333945e+02,\n",
       "       5.67031797e+02, 1.80695856e+03, 4.17562524e+03, 7.37583806e+03,\n",
       "       1.03344416e+04, 1.19265238e+04, 1.21845960e+04, 1.17243996e+04,\n",
       "       1.08098918e+04, 1.06238119e+04, 1.18698288e+04, 1.22913543e+04,\n",
       "       1.20735378e+04, 1.23563099e+04, 1.23833875e+04, 1.13109167e+04,\n",
       "       9.03002813e+03, 6.61272506e+03, 4.45062116e+03, 2.45431885e+03,\n",
       "       7.80249357e+02, 7.52500203e+01, 1.33376325e+01, 1.11190947e+00,\n",
       "       1.82853878e-02, 3.24914283e+00, 2.29777157e+01, 1.14200973e+02,\n",
       "       5.38045451e+02, 1.99426719e+03, 4.67936603e+03, 7.95253255e+03,\n",
       "       1.07258134e+04, 1.20139879e+04, 1.21638931e+04, 1.17566625e+04,\n",
       "       1.13343043e+04, 1.18391192e+04, 1.29816430e+04, 1.24639740e+04,\n",
       "       1.20896254e+04, 1.25713386e+04, 1.24632364e+04, 1.09610612e+04,\n",
       "       8.64573664e+03, 6.49119870e+03, 4.53402127e+03, 2.65625394e+03,\n",
       "       9.31588483e+02, 1.00685407e+02, 1.19704254e+01, 1.21835841e+00,\n",
       "       2.28013785e-01, 1.07633279e+00, 8.87853475e+00, 8.36135381e+01,\n",
       "       5.57762463e+02, 2.29865870e+03, 5.17265286e+03, 8.37846458e+03,\n",
       "       1.08657652e+04, 1.19759975e+04, 1.20146944e+04, 1.17759290e+04,\n",
       "       1.17234271e+04, 1.24446341e+04, 1.29383666e+04, 1.20100174e+04,\n",
       "       1.20816040e+04, 1.26591394e+04, 1.23615774e+04, 1.08810925e+04,\n",
       "       8.82934911e+03, 6.82806682e+03, 4.80105852e+03, 2.83958487e+03,\n",
       "       1.06538721e+03, 1.36201211e+02, 1.45263413e+01, 6.13015813e-02,\n",
       "       2.53208112e-02, 9.12697122e-01, 6.67663342e+00, 8.49609664e+01,\n",
       "       6.41748211e+02, 2.66848742e+03, 5.57917506e+03, 8.49727345e+03,\n",
       "       1.06650707e+04, 1.16905797e+04, 1.17783055e+04, 1.17442487e+04,\n",
       "       1.20223786e+04, 1.27178072e+04, 1.26895086e+04, 1.19674312e+04,\n",
       "       1.24196257e+04, 1.26998152e+04, 1.20759537e+04, 1.08720185e+04,\n",
       "       9.16877100e+03, 7.22014434e+03, 5.01405543e+03, 2.85224898e+03,\n",
       "       1.09026601e+03, 1.91462638e+02, 2.43314949e+01, 8.86341171e-01,\n",
       "       2.85709184e-02, 3.73857984e-01, 1.31379298e+01, 9.64679754e+01,\n",
       "       7.89933968e+02, 3.04459066e+03, 5.86200505e+03, 8.32832939e+03,\n",
       "       1.01097899e+04, 1.10195423e+04, 1.12668659e+04, 1.15044757e+04,\n",
       "       1.21221449e+04, 1.27570776e+04, 1.27060708e+04, 1.23655798e+04,\n",
       "       1.26014122e+04, 1.24058447e+04, 1.17809438e+04, 1.08987998e+04,\n",
       "       9.44495829e+03, 7.28804231e+03, 4.94013031e+03, 2.69823936e+03,\n",
       "       1.03294075e+03, 2.32601430e+02, 2.98313425e+01, 1.45423029e+00,\n",
       "       0.00000000e+00, 1.95916070e-01, 2.15730035e+01, 1.59111742e+02,\n",
       "       1.08649028e+03, 3.43424905e+03, 6.01633666e+03, 8.07947830e+03,\n",
       "       9.49761102e+03, 1.03399069e+04, 1.06991188e+04, 1.11269218e+04,\n",
       "       1.17889843e+04, 1.23103832e+04, 1.25421487e+04, 1.24804509e+04,\n",
       "       1.23577054e+04, 1.20760925e+04, 1.17855051e+04, 1.10177185e+04,\n",
       "       9.42765799e+03, 7.07608368e+03, 4.58824256e+03, 2.39956410e+03,\n",
       "       9.13438876e+02, 2.48378361e+02, 2.88464240e+01, 1.05942009e+00,\n",
       "       6.44451629e-02, 5.50318559e-02, 2.72037399e+01, 2.80746953e+02,\n",
       "       1.43861582e+03, 3.82639044e+03, 6.27885920e+03, 8.14014350e+03,\n",
       "       9.30403648e+03, 1.00559457e+04, 1.06097618e+04, 1.10252221e+04,\n",
       "       1.13554401e+04, 1.19411361e+04, 1.23602965e+04, 1.23004966e+04,\n",
       "       1.21785771e+04, 1.21576870e+04, 1.19728223e+04, 1.10731007e+04,\n",
       "       9.14119903e+03, 6.63079872e+03, 4.17210543e+03, 2.09315786e+03,\n",
       "       7.99122182e+02, 2.23122814e+02, 2.25419877e+01, 1.44440569e+00,\n",
       "       4.01778540e-03, 7.05470306e-01, 4.30027425e+01, 3.82759824e+02,\n",
       "       1.65550794e+03, 4.10396299e+03, 6.61475372e+03, 8.54590489e+03,\n",
       "       9.77117881e+03, 1.06025307e+04, 1.11800884e+04, 1.15119638e+04,\n",
       "       1.17947239e+04, 1.21726333e+04, 1.24266480e+04, 1.23485464e+04,\n",
       "       1.22526322e+04, 1.23725053e+04, 1.19646123e+04, 1.06021804e+04,\n",
       "       8.40799033e+03, 5.82831771e+03, 3.49176620e+03, 1.69205423e+03,\n",
       "       6.54028078e+02, 1.81151739e+02, 2.56729052e+01, 7.80819551e-01,\n",
       "       0.00000000e+00, 1.68350227e+00, 5.31609989e+01, 4.13516521e+02,\n",
       "       1.62403704e+03, 3.87768565e+03, 6.61434282e+03, 8.89955370e+03,\n",
       "       1.04805541e+04, 1.13807330e+04, 1.19292192e+04, 1.22078352e+04,\n",
       "       1.23748047e+04, 1.24155036e+04, 1.24210017e+04, 1.23769586e+04,\n",
       "       1.23837328e+04, 1.22590415e+04, 1.14035001e+04, 9.57828377e+03,\n",
       "       7.03633423e+03, 4.53528461e+03, 2.54073178e+03, 1.20437794e+03,\n",
       "       4.96720631e+02, 1.31853428e+02, 1.93492112e+01, 4.46420599e-02,\n",
       "       0.00000000e+00, 1.39280757e+00, 4.56675148e+01, 3.40110401e+02,\n",
       "       1.22580918e+03, 3.15737462e+03, 5.85162162e+03, 8.59404762e+03,\n",
       "       1.06466738e+04, 1.18441908e+04, 1.23668117e+04, 1.24694429e+04,\n",
       "       1.23624807e+04, 1.21429068e+04, 1.22351939e+04, 1.23156136e+04,\n",
       "       1.22596111e+04, 1.16017284e+04, 9.98973506e+03, 7.61166603e+03,\n",
       "       5.09980417e+03, 2.98681450e+03, 1.58733171e+03, 7.58787678e+02,\n",
       "       3.14128219e+02, 7.77965145e+01, 9.89027901e+00, 2.71602293e-02,\n",
       "       0.00000000e+00, 2.60708661e-02, 2.64712728e+01, 1.85251765e+02,\n",
       "       6.96839509e+02, 1.98409301e+03, 4.16367558e+03, 6.93699147e+03,\n",
       "       9.55688382e+03, 1.14468547e+04, 1.24626128e+04, 1.27572537e+04,\n",
       "       1.26548734e+04, 1.25769152e+04, 1.26202163e+04, 1.23990748e+04,\n",
       "       1.15607196e+04, 9.90112602e+03, 7.53695732e+03, 5.10522044e+03,\n",
       "       3.08199252e+03, 1.69347324e+03, 8.49317927e+02, 3.97554587e+02,\n",
       "       1.37844922e+02, 3.01963020e+01, 2.58712284e+00, 9.25697755e-02,\n",
       "       0.00000000e+00, 1.02855306e-02, 5.69717740e+00, 5.74259000e+01,\n",
       "       2.90474886e+02, 8.81946231e+02, 2.09018234e+03, 4.11309413e+03,\n",
       "       6.66589064e+03, 9.09455587e+03, 1.08827126e+04, 1.18785370e+04,\n",
       "       1.21992658e+04, 1.21627627e+04, 1.17057099e+04, 1.06833011e+04,\n",
       "       8.90832355e+03, 6.72469935e+03, 4.53729609e+03, 2.76994500e+03,\n",
       "       1.58000375e+03, 8.18724551e+02, 3.95363721e+02, 1.67710373e+02,\n",
       "       4.49446480e+01, 8.34728784e+00, 4.40814893e-01, 0.00000000e+00,\n",
       "       0.00000000e+00, 0.00000000e+00, 1.25200354e+00, 1.58562504e+01,\n",
       "       7.99601294e+01, 2.79885108e+02, 7.30162608e+02, 1.63699593e+03,\n",
       "       3.01877044e+03, 4.76603768e+03, 6.46818210e+03, 7.67595836e+03,\n",
       "       8.25366682e+03, 8.22809060e+03, 7.54126652e+03, 6.25029981e+03,\n",
       "       4.89132121e+03, 3.50946220e+03, 2.23508755e+03, 1.36900926e+03,\n",
       "       7.32626873e+02, 3.69622508e+02, 1.71316107e+02, 6.69000056e+01,\n",
       "       1.29188250e+01, 3.08232062e+00, 5.78561097e-03, 0.00000000e+00,\n",
       "       0.00000000e+00, 0.00000000e+00, 4.57134694e-03, 2.53360628e+00,\n",
       "       2.21779620e+01, 8.44645930e+01, 2.57589354e+02, 5.95854566e+02,\n",
       "       1.19838183e+03, 1.90672527e+03, 2.63942428e+03, 3.18948208e+03,\n",
       "       3.49825620e+03, 3.46176964e+03, 3.07037269e+03, 2.51413583e+03,\n",
       "       2.06154774e+03, 1.51183713e+03, 9.87854602e+02, 5.92821510e+02,\n",
       "       3.19225066e+02, 1.57250141e+02, 6.37162401e+01, 2.22738632e+01,\n",
       "       2.93748486e+00, 2.88012714e-01, 0.00000000e+00, 0.00000000e+00,\n",
       "       0.00000000e+00, 0.00000000e+00, 0.00000000e+00, 2.57852538e-02,\n",
       "       4.75342028e+00, 2.90516772e+01, 1.00358319e+02, 2.21715125e+02,\n",
       "       4.49363142e+02, 6.75479354e+02, 9.07243895e+02, 1.13066443e+03,\n",
       "       1.25459246e+03, 1.23574732e+03, 1.08446132e+03, 8.39594391e+02,\n",
       "       6.99002001e+02, 5.03775200e+02, 3.10600351e+02, 1.88159282e+02,\n",
       "       1.11418173e+02, 4.68008417e+01, 1.19797131e+01, 2.60977276e+00,\n",
       "       2.32489273e-02, 0.00000000e+00, 0.00000000e+00, 0.00000000e+00,\n",
       "       0.00000000e+00, 0.00000000e+00, 0.00000000e+00, 0.00000000e+00,\n",
       "       2.04225438e-01, 2.80500111e+00, 5.39303468e+00, 1.34721275e+01,\n",
       "       2.15816853e+01, 3.62069996e+01, 5.51490945e+01, 7.79834135e+01,\n",
       "       9.49118642e+01, 1.07550230e+02, 1.28042292e+02, 1.15568392e+02,\n",
       "       9.54052365e+01, 6.77748667e+01, 3.71052062e+01, 1.83413710e+01,\n",
       "       6.32102303e+00, 1.70762943e+00, 1.82118762e+00, 6.86416314e-02,\n",
       "       0.00000000e+00, 0.00000000e+00, 0.00000000e+00, 0.00000000e+00])"
      ]
     },
     "execution_count": 69,
     "metadata": {},
     "output_type": "execute_result"
    }
   ],
   "source": [
    "scaler.var_"
   ]
  },
  {
   "cell_type": "code",
   "execution_count": null,
   "id": "7424a74c",
   "metadata": {},
   "outputs": [],
   "source": []
  }
 ],
 "metadata": {
  "kernelspec": {
   "display_name": "Python 3 (ipykernel)",
   "language": "python",
   "name": "python3"
  },
  "language_info": {
   "codemirror_mode": {
    "name": "ipython",
    "version": 3
   },
   "file_extension": ".py",
   "mimetype": "text/x-python",
   "name": "python",
   "nbconvert_exporter": "python",
   "pygments_lexer": "ipython3",
   "version": "3.8.10"
  }
 },
 "nbformat": 4,
 "nbformat_minor": 5
}
