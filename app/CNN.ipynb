{
 "cells": [
  {
   "cell_type": "code",
   "execution_count": 2,
   "id": "0aaf0faa",
   "metadata": {},
   "outputs": [],
   "source": [
    "import tensorflow as tf\n",
    "from tensorflow.keras.layers import Conv2D, MaxPooling2D, Dropout, Flatten, Dense\n",
    "import matplotlib.pyplot as plt\n",
    "import os"
   ]
  },
  {
   "cell_type": "code",
   "execution_count": 3,
   "id": "beae1384",
   "metadata": {},
   "outputs": [
    {
     "name": "stdout",
     "output_type": "stream",
     "text": [
      "Downloading data from https://storage.googleapis.com/tensorflow/tf-keras-datasets/mnist.npz\n",
      "11493376/11490434 [==============================] - 3s 0us/step\n"
     ]
    }
   ],
   "source": [
    "(x_train, y_train), (x_test, y_test) = tf.keras.datasets.mnist.load_data()\n",
    "x_train = x_train.reshape(x_train.shape[0], 28, 28, 1)\n",
    "x_test = x_test.reshape(x_test.shape[0], 28, 28, 1)\n",
    "x_train, x_test = x_train / 255.0, x_test / 255.0"
   ]
  },
  {
   "cell_type": "code",
   "execution_count": 4,
   "id": "30831768",
   "metadata": {},
   "outputs": [
    {
     "name": "stderr",
     "output_type": "stream",
     "text": [
      "2021-08-15 16:51:32.191593: W tensorflow/stream_executor/platform/default/dso_loader.cc:64] Could not load dynamic library 'libcuda.so.1'; dlerror: libcuda.so.1: cannot open shared object file: No such file or directory\n",
      "2021-08-15 16:51:32.191626: W tensorflow/stream_executor/cuda/cuda_driver.cc:326] failed call to cuInit: UNKNOWN ERROR (303)\n",
      "2021-08-15 16:51:32.191654: I tensorflow/stream_executor/cuda/cuda_diagnostics.cc:156] kernel driver does not appear to be running on this host (NOTYOURCOMPUTER): /proc/driver/nvidia/version does not exist\n",
      "2021-08-15 16:51:32.192099: I tensorflow/core/platform/cpu_feature_guard.cc:142] This TensorFlow binary is optimized with oneAPI Deep Neural Network Library (oneDNN) to use the following CPU instructions in performance-critical operations:  AVX2 FMA\n",
      "To enable them in other operations, rebuild TensorFlow with the appropriate compiler flags.\n"
     ]
    }
   ],
   "source": [
    "model = tf.keras.models.Sequential([\n",
    "        Conv2D(filters=16, kernel_size=(5, 5), padding='same', activation='relu', input_shape=(28, 28, 1)),\n",
    "        MaxPooling2D(pool_size=(2, 2)),\n",
    "        Conv2D(filters=36, kernel_size=(5, 5), padding='same', activation='relu'),\n",
    "        MaxPooling2D(pool_size=(2, 2)),\n",
    "        Dropout(0.25),\n",
    "        Flatten(),\n",
    "        Dense(128, activation='relu'),\n",
    "        Dropout(0.5),\n",
    "        Dense(10, activation='softmax')\n",
    "    ])"
   ]
  },
  {
   "cell_type": "code",
   "execution_count": 5,
   "id": "99da1e05",
   "metadata": {},
   "outputs": [],
   "source": [
    "model.compile(optimizer='adam',\n",
    "                  loss=tf.keras.losses.SparseCategoricalCrossentropy(from_logits=False),\n",
    "                  metrics=['sparse_categorical_accuracy'])"
   ]
  },
  {
   "cell_type": "code",
   "execution_count": 9,
   "id": "00503f1c",
   "metadata": {},
   "outputs": [
    {
     "name": "stderr",
     "output_type": "stream",
     "text": [
      "2021-08-15 17:31:45.533059: W tensorflow/core/framework/cpu_allocator_impl.cc:80] Allocation of 188160000 exceeds 10% of free system memory.\n",
      "2021-08-15 17:31:45.796585: I tensorflow/compiler/mlir/mlir_graph_optimization_pass.cc:176] None of the MLIR Optimization Passes are enabled (registered 2)\n",
      "2021-08-15 17:31:45.828883: I tensorflow/core/platform/profile_utils/cpu_utils.cc:114] CPU Frequency: 2593915000 Hz\n"
     ]
    },
    {
     "name": "stdout",
     "output_type": "stream",
     "text": [
      "Epoch 1/20\n",
      "  2/469 [..............................] - ETA: 51s - loss: 2.2887 - sparse_categorical_accuracy: 0.1680 "
     ]
    },
    {
     "name": "stderr",
     "output_type": "stream",
     "text": [
      "2021-08-15 17:31:46.771315: W tensorflow/core/framework/cpu_allocator_impl.cc:80] Allocation of 24774400 exceeds 10% of free system memory.\n",
      "2021-08-15 17:31:46.773096: W tensorflow/core/framework/cpu_allocator_impl.cc:80] Allocation of 24774400 exceeds 10% of free system memory.\n",
      "2021-08-15 17:31:46.807751: W tensorflow/core/framework/cpu_allocator_impl.cc:80] Allocation of 18972800 exceeds 10% of free system memory.\n",
      "2021-08-15 17:31:46.888210: W tensorflow/core/framework/cpu_allocator_impl.cc:80] Allocation of 24774400 exceeds 10% of free system memory.\n"
     ]
    },
    {
     "name": "stdout",
     "output_type": "stream",
     "text": [
      "469/469 [==============================] - 55s 115ms/step - loss: 0.3095 - sparse_categorical_accuracy: 0.9035 - val_loss: 0.0563 - val_sparse_categorical_accuracy: 0.9817\n",
      "Epoch 2/20\n",
      "469/469 [==============================] - 57s 122ms/step - loss: 0.0942 - sparse_categorical_accuracy: 0.9724 - val_loss: 0.0377 - val_sparse_categorical_accuracy: 0.9874\n",
      "Epoch 3/20\n",
      "469/469 [==============================] - 58s 125ms/step - loss: 0.0697 - sparse_categorical_accuracy: 0.9788 - val_loss: 0.0296 - val_sparse_categorical_accuracy: 0.9906\n",
      "Epoch 4/20\n",
      "469/469 [==============================] - 61s 130ms/step - loss: 0.0582 - sparse_categorical_accuracy: 0.9825 - val_loss: 0.0253 - val_sparse_categorical_accuracy: 0.9916\n",
      "Epoch 5/20\n",
      "469/469 [==============================] - 58s 123ms/step - loss: 0.0502 - sparse_categorical_accuracy: 0.9848 - val_loss: 0.0238 - val_sparse_categorical_accuracy: 0.9922\n",
      "Epoch 6/20\n",
      "469/469 [==============================] - 57s 121ms/step - loss: 0.0446 - sparse_categorical_accuracy: 0.9866 - val_loss: 0.0210 - val_sparse_categorical_accuracy: 0.9929\n",
      "Epoch 7/20\n",
      "469/469 [==============================] - 47s 101ms/step - loss: 0.0381 - sparse_categorical_accuracy: 0.9882 - val_loss: 0.0240 - val_sparse_categorical_accuracy: 0.9920\n",
      "Epoch 8/20\n",
      "469/469 [==============================] - 45s 96ms/step - loss: 0.0351 - sparse_categorical_accuracy: 0.9893 - val_loss: 0.0226 - val_sparse_categorical_accuracy: 0.9924\n",
      "Epoch 9/20\n",
      "469/469 [==============================] - 45s 96ms/step - loss: 0.0319 - sparse_categorical_accuracy: 0.9899 - val_loss: 0.0212 - val_sparse_categorical_accuracy: 0.9938\n",
      "Epoch 10/20\n",
      "469/469 [==============================] - 53s 114ms/step - loss: 0.0303 - sparse_categorical_accuracy: 0.9903 - val_loss: 0.0207 - val_sparse_categorical_accuracy: 0.9927\n",
      "Epoch 11/20\n",
      "469/469 [==============================] - 80s 170ms/step - loss: 0.0269 - sparse_categorical_accuracy: 0.9916 - val_loss: 0.0186 - val_sparse_categorical_accuracy: 0.9942\n",
      "Epoch 12/20\n",
      "469/469 [==============================] - 86s 183ms/step - loss: 0.0283 - sparse_categorical_accuracy: 0.9909 - val_loss: 0.0198 - val_sparse_categorical_accuracy: 0.9940\n",
      "Epoch 13/20\n",
      "469/469 [==============================] - 82s 174ms/step - loss: 0.0240 - sparse_categorical_accuracy: 0.9923 - val_loss: 0.0205 - val_sparse_categorical_accuracy: 0.9936\n",
      "Epoch 14/20\n",
      "469/469 [==============================] - 76s 161ms/step - loss: 0.0242 - sparse_categorical_accuracy: 0.9923 - val_loss: 0.0202 - val_sparse_categorical_accuracy: 0.9940\n",
      "Epoch 15/20\n",
      "469/469 [==============================] - 75s 161ms/step - loss: 0.0220 - sparse_categorical_accuracy: 0.9929 - val_loss: 0.0215 - val_sparse_categorical_accuracy: 0.9940\n",
      "Epoch 16/20\n",
      "469/469 [==============================] - 76s 162ms/step - loss: 0.0197 - sparse_categorical_accuracy: 0.9940 - val_loss: 0.0203 - val_sparse_categorical_accuracy: 0.9941\n",
      "Epoch 17/20\n",
      "469/469 [==============================] - 75s 161ms/step - loss: 0.0200 - sparse_categorical_accuracy: 0.9935 - val_loss: 0.0214 - val_sparse_categorical_accuracy: 0.9939\n",
      "Epoch 18/20\n",
      "469/469 [==============================] - 75s 160ms/step - loss: 0.0184 - sparse_categorical_accuracy: 0.9937 - val_loss: 0.0311 - val_sparse_categorical_accuracy: 0.9928\n",
      "Epoch 19/20\n",
      "469/469 [==============================] - 81s 172ms/step - loss: 0.0181 - sparse_categorical_accuracy: 0.9942 - val_loss: 0.0225 - val_sparse_categorical_accuracy: 0.9937\n",
      "Epoch 20/20\n",
      "469/469 [==============================] - 81s 172ms/step - loss: 0.0180 - sparse_categorical_accuracy: 0.9937 - val_loss: 0.0206 - val_sparse_categorical_accuracy: 0.9942\n"
     ]
    }
   ],
   "source": [
    "history = model.fit(x_train, y_train,\n",
    "              batch_size=128,\n",
    "              epochs=20,\n",
    "              validation_data=(x_test, y_test),\n",
    "              validation_freq=1)\n"
   ]
  },
  {
   "cell_type": "code",
   "execution_count": 10,
   "id": "c85757f2",
   "metadata": {},
   "outputs": [
    {
     "name": "stdout",
     "output_type": "stream",
     "text": [
      "Model: \"sequential\"\n",
      "_________________________________________________________________\n",
      "Layer (type)                 Output Shape              Param #   \n",
      "=================================================================\n",
      "conv2d (Conv2D)              (None, 28, 28, 16)        416       \n",
      "_________________________________________________________________\n",
      "max_pooling2d (MaxPooling2D) (None, 14, 14, 16)        0         \n",
      "_________________________________________________________________\n",
      "conv2d_1 (Conv2D)            (None, 14, 14, 36)        14436     \n",
      "_________________________________________________________________\n",
      "max_pooling2d_1 (MaxPooling2 (None, 7, 7, 36)          0         \n",
      "_________________________________________________________________\n",
      "dropout (Dropout)            (None, 7, 7, 36)          0         \n",
      "_________________________________________________________________\n",
      "flatten (Flatten)            (None, 1764)              0         \n",
      "_________________________________________________________________\n",
      "dense (Dense)                (None, 128)               225920    \n",
      "_________________________________________________________________\n",
      "dropout_1 (Dropout)          (None, 128)               0         \n",
      "_________________________________________________________________\n",
      "dense_1 (Dense)              (None, 10)                1290      \n",
      "=================================================================\n",
      "Total params: 242,062\n",
      "Trainable params: 242,062\n",
      "Non-trainable params: 0\n",
      "_________________________________________________________________\n"
     ]
    }
   ],
   "source": [
    "model.summary()"
   ]
  },
  {
   "cell_type": "code",
   "execution_count": 12,
   "id": "1e11457e",
   "metadata": {},
   "outputs": [
    {
     "data": {
      "image/png": "[encoded data removed]",
      "text/plain": [
       "<Figure size 432x288 with 2 Axes>"
      ]
     },
     "metadata": {
      "needs_background": "light"
     },
     "output_type": "display_data"
    }
   ],
   "source": [
    "acc = history.history['sparse_categorical_accuracy']\n",
    "val_acc = history.history['val_sparse_categorical_accuracy']\n",
    "loss = history.history['loss']\n",
    "val_loss = history.history['val_loss']\n",
    "\n",
    "plt.subplot(1, 2, 1)\n",
    "plt.plot(acc, label='Training Accuracy')\n",
    "plt.plot(val_acc, label='Validation Accuracy')\n",
    "plt.title('Training and Validation Accuracy')\n",
    "plt.legend()\n",
    "\n",
    "plt.subplot(1, 2, 2)\n",
    "plt.plot(loss, label='Training Loss')\n",
    "plt.plot(val_loss, label='Validation Loss')\n",
    "plt.title('Training and Validation Loss')\n",
    "plt.legend()\n",
    "plt.show()\n"
   ]
  },
  {
   "cell_type": "code",
   "execution_count": 13,
   "id": "be2062b9",
   "metadata": {},
   "outputs": [],
   "source": [
    "model.save('convolutional.h5')"
   ]
  },
  {
   "cell_type": "code",
   "execution_count": 16,
   "id": "0f66d034",
   "metadata": {},
   "outputs": [
    {
     "name": "stdout",
     "output_type": "stream",
     "text": [
      "5\n"
     ]
    }
   ],
   "source": [
    "sampleX = x_train[0]\n",
    "sampley = y_train[0]\n",
    "print(sampley)"
   ]
  },
  {
   "cell_type": "code",
   "execution_count": 20,
   "id": "ded01ccf",
   "metadata": {},
   "outputs": [
    {
     "data": {
      "image/png": "[encoded data removed]",
      "text/plain": [
       "<Figure size 432x288 with 1 Axes>"
      ]
     },
     "metadata": {},
     "output_type": "display_data"
    }
   ],
   "source": [
    "subplt = plt.subplot(1, 1, 1)\n",
    "subplt.imshow(sampleX[:,:])  \n",
    "subplt.set_xticks(())\n",
    "subplt.set_yticks(())\n",
    "subplt.set_xlabel(sampley)\n",
    "plt.show()"
   ]
  },
  {
   "cell_type": "code",
   "execution_count": 21,
   "id": "7f5ec65b",
   "metadata": {},
   "outputs": [],
   "source": [
    "a = tf.keras.models.load_model('convolutional.h5')"
   ]
  },
  {
   "cell_type": "code",
   "execution_count": 24,
   "id": "dac0c65b",
   "metadata": {},
   "outputs": [
    {
     "name": "stdout",
     "output_type": "stream",
     "text": [
      "Model: \"sequential\"\n",
      "_________________________________________________________________\n",
      "Layer (type)                 Output Shape              Param #   \n",
      "=================================================================\n",
      "conv2d (Conv2D)              (None, 28, 28, 16)        416       \n",
      "_________________________________________________________________\n",
      "max_pooling2d (MaxPooling2D) (None, 14, 14, 16)        0         \n",
      "_________________________________________________________________\n",
      "conv2d_1 (Conv2D)            (None, 14, 14, 36)        14436     \n",
      "_________________________________________________________________\n",
      "max_pooling2d_1 (MaxPooling2 (None, 7, 7, 36)          0         \n",
      "_________________________________________________________________\n",
      "dropout (Dropout)            (None, 7, 7, 36)          0         \n",
      "_________________________________________________________________\n",
      "flatten (Flatten)            (None, 1764)              0         \n",
      "_________________________________________________________________\n",
      "dense (Dense)                (None, 128)               225920    \n",
      "_________________________________________________________________\n",
      "dropout_1 (Dropout)          (None, 128)               0         \n",
      "_________________________________________________________________\n",
      "dense_1 (Dense)              (None, 10)                1290      \n",
      "=================================================================\n",
      "Total params: 242,062\n",
      "Trainable params: 242,062\n",
      "Non-trainable params: 0\n",
      "_________________________________________________________________\n"
     ]
    }
   ],
   "source": [
    "a.summary()"
   ]
  },
  {
   "cell_type": "code",
   "execution_count": 34,
   "id": "89d42fcd",
   "metadata": {},
   "outputs": [
    {
     "data": {
      "text/plain": [
       "<tf.Tensor: shape=(1, 10), dtype=float32, numpy=\n",
       "array([[6.85076674e-17, 1.04545754e-10, 4.08028882e-18, 2.48492957e-04,\n",
       "        5.81985088e-17, 9.99751508e-01, 6.31459971e-15, 8.69522119e-13,\n",
       "        5.10991700e-11, 1.89934232e-11]], dtype=float32)>"
      ]
     },
     "execution_count": 34,
     "metadata": {},
     "output_type": "execute_result"
    }
   ],
   "source": [
    "x = sampleX.reshape(1, 28, 28, 1)\n",
    "a(x)"
   ]
  },
  {
   "cell_type": "code",
   "execution_count": 27,
   "id": "891ab687",
   "metadata": {},
   "outputs": [
    {
     "data": {
      "text/plain": [
       "(28, 28, 1)"
      ]
     },
     "execution_count": 27,
     "metadata": {},
     "output_type": "execute_result"
    }
   ],
   "source": [
    "sampleX.shape"
   ]
  },
  {
   "cell_type": "code",
   "execution_count": 31,
   "id": "6e427939",
   "metadata": {},
   "outputs": [
    {
     "ename": "AttributeError",
     "evalue": "'Sequential' object has no attribute 'classes'",
     "output_type": "error",
     "traceback": [
      "\u001b[0;31m---------------------------------------------------------------------------\u001b[0m",
      "\u001b[0;31mAttributeError\u001b[0m                            Traceback (most recent call last)",
      "\u001b[0;32m/tmp/ipykernel_10787/1117662147.py\u001b[0m in \u001b[0;36m<module>\u001b[0;34m\u001b[0m\n\u001b[0;32m----> 1\u001b[0;31m \u001b[0ma\u001b[0m\u001b[0;34m.\u001b[0m\u001b[0mclasses\u001b[0m\u001b[0;34m\u001b[0m\u001b[0;34m\u001b[0m\u001b[0m\n\u001b[0m",
      "\u001b[0;31mAttributeError\u001b[0m: 'Sequential' object has no attribute 'classes'"
     ]
    }
   ],
   "source": [
    "a.classes"
   ]
  },
  {
   "cell_type": "code",
   "execution_count": null,
   "id": "3c95eac3",
   "metadata": {},
   "outputs": [],
   "source": []
  }
 ],
 "metadata": {
  "kernelspec": {
   "display_name": "Python 3 (ipykernel)",
   "language": "python",
   "name": "python3"
  },
  "language_info": {
   "codemirror_mode": {
    "name": "ipython",
    "version": 3
   },
   "file_extension": ".py",
   "mimetype": "text/x-python",
   "name": "python",
   "nbconvert_exporter": "python",
   "pygments_lexer": "ipython3",
   "version": "3.8.10"
  }
 },
 "nbformat": 4,
 "nbformat_minor": 5
}
