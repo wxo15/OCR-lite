{
 "cells": [
  {
   "cell_type": "code",
   "execution_count": 2,
   "id": "bce9ef82",
   "metadata": {},
   "outputs": [],
   "source": [
    "import numpy as np\n",
    "import matplotlib as mpl\n",
    "from matplotlib import pyplot as plt\n",
    "from sklearn.linear_model import LogisticRegression\n",
    "from sklearn.model_selection import train_test_split\n",
    "from sklearn.preprocessing import StandardScaler\n",
    "from sklearn.utils import check_random_state\n",
    "from sklearn.metrics import accuracy_score\n",
    "np.random.seed(1)"
   ]
  },
  {
   "cell_type": "code",
   "execution_count": 3,
   "id": "d3951eef",
   "metadata": {},
   "outputs": [],
   "source": [
    "from sklearn.datasets import fetch_openml\n",
    "X, y = fetch_openml('mnist_784', version=1, return_X_y=True, as_frame=False)"
   ]
  },
  {
   "cell_type": "code",
   "execution_count": 4,
   "id": "8a6ff075",
   "metadata": {},
   "outputs": [
    {
     "name": "stdout",
     "output_type": "stream",
     "text": [
      "(70000, 784)\n",
      "(70000,)\n"
     ]
    }
   ],
   "source": [
    "print(X.shape)\n",
    "print(y.shape)"
   ]
  },
  {
   "cell_type": "code",
   "execution_count": 5,
   "id": "1d54b94b",
   "metadata": {},
   "outputs": [
    {
     "name": "stdout",
     "output_type": "stream",
     "text": [
      "[10840 56267 14849 ... 42613 43567 68268]\n"
     ]
    }
   ],
   "source": [
    "random_state = check_random_state(0)\n",
    "permutation = random_state.permutation(X.shape[0])\n",
    "print(permutation)\n",
    "X = X[permutation]\n",
    "y = y[permutation]"
   ]
  },
  {
   "cell_type": "code",
   "execution_count": 6,
   "id": "f863bb6b",
   "metadata": {},
   "outputs": [
    {
     "name": "stdout",
     "output_type": "stream",
     "text": [
      "(5, 28, 28)\n"
     ]
    }
   ],
   "source": [
    "cnt=5\n",
    "sampleX = X[0:cnt]\n",
    "sampley = y[0:cnt]\n",
    "exampleX = sampleX.reshape(sampleX.shape[0],28,28)\n",
    "print(exampleX.shape)"
   ]
  },
  {
   "cell_type": "code",
   "execution_count": 7,
   "id": "1636af22",
   "metadata": {},
   "outputs": [
    {
     "data": {
      "image/png": "[encoded data removed]",
      "text/plain": [
       "<Figure size 432x288 with 5 Axes>"
      ]
     },
     "metadata": {},
     "output_type": "display_data"
    }
   ],
   "source": [
    "for i in range(exampleX.shape[0]):\n",
    "    subplt = plt.subplot(1, exampleX.shape[0], i + 1)\n",
    "    subplt.imshow(exampleX[i,:,:])  \n",
    "    subplt.set_xticks(())\n",
    "    subplt.set_yticks(())\n",
    "    subplt.set_xlabel(y[i])\n",
    "plt.show()"
   ]
  },
  {
   "cell_type": "code",
   "execution_count": 8,
   "id": "f0092839",
   "metadata": {},
   "outputs": [],
   "source": [
    "X_train, X_test, y_train, y_test = train_test_split(\n",
    "    X, y, test_size=0.2)"
   ]
  },
  {
   "cell_type": "code",
   "execution_count": 9,
   "id": "7b0d0619",
   "metadata": {},
   "outputs": [],
   "source": [
    "scaler = StandardScaler()\n",
    "X_train = scaler.fit_transform(X_train)\n",
    "X_test = scaler.transform(X_test)"
   ]
  },
  {
   "cell_type": "code",
   "execution_count": 10,
   "id": "d29451f0",
   "metadata": {},
   "outputs": [
    {
     "data": {
      "text/plain": [
       "LogisticRegression(C=0.0008928571428571428, penalty='l1', solver='saga',\n",
       "                   tol=0.1)"
      ]
     },
     "execution_count": 10,
     "metadata": {},
     "output_type": "execute_result"
    }
   ],
   "source": [
    "clf = LogisticRegression(\n",
    "    C=50. / X_train.shape[0], penalty='l1', solver='saga', tol=0.1\n",
    ")\n",
    "clf.fit(X_train, y_train)"
   ]
  },
  {
   "cell_type": "code",
   "execution_count": 11,
   "id": "9c95f18a",
   "metadata": {},
   "outputs": [
    {
     "name": "stdout",
     "output_type": "stream",
     "text": [
      "Sparsity with L1 penalty: 84.69%\n",
      "Test score with L1 penalty: 0.8401\n"
     ]
    }
   ],
   "source": [
    "sparsity = np.mean(clf.coef_ == 0) * 100\n",
    "score = clf.score(X_test, y_test)\n",
    "# print('Best C % .4f' % clf.C_)\n",
    "print(\"Sparsity with L1 penalty: %.2f%%\" % sparsity)\n",
    "print(\"Test score with L1 penalty: %.4f\" % score)"
   ]
  },
  {
   "cell_type": "code",
   "execution_count": 12,
   "id": "ee4c2201",
   "metadata": {},
   "outputs": [
    {
     "data": {
      "text/plain": [
       "Text(0.5, 0.98, 'Classification vector for...')"
      ]
     },
     "execution_count": 12,
     "metadata": {},
     "output_type": "execute_result"
    },
    {
     "data": {
      "image/png": "[encoded data removed]",
      "text/plain": [
       "<Figure size 720x360 with 10 Axes>"
      ]
     },
     "metadata": {},
     "output_type": "display_data"
    }
   ],
   "source": [
    "coef = clf.coef_.copy()\n",
    "plt.figure(figsize=(10, 5))\n",
    "scale = np.abs(coef).max()\n",
    "for i in range(10):\n",
    "    l1_plot = plt.subplot(2, 5, i + 1)\n",
    "    l1_plot.imshow(coef[i].reshape(28, 28), interpolation='nearest',\n",
    "                   cmap=plt.cm.RdBu, vmin=-scale, vmax=scale)\n",
    "    l1_plot.set_xticks(())\n",
    "    l1_plot.set_yticks(())\n",
    "    l1_plot.set_xlabel('Class %i' % i)\n",
    "plt.suptitle('Classification vector for...')"
   ]
  },
  {
   "cell_type": "code",
   "execution_count": 13,
   "id": "87cb9665",
   "metadata": {},
   "outputs": [
    {
     "data": {
      "text/plain": [
       "0.83975"
      ]
     },
     "execution_count": 13,
     "metadata": {},
     "output_type": "execute_result"
    }
   ],
   "source": [
    "# Training score\n",
    "y_pred_tuned = clf.predict(X_train)\n",
    "accuracy_score(y_train, y_pred_tuned)"
   ]
  },
  {
   "cell_type": "code",
   "execution_count": 14,
   "id": "52a01777",
   "metadata": {},
   "outputs": [
    {
     "data": {
      "text/plain": [
       "0.8401428571428572"
      ]
     },
     "execution_count": 14,
     "metadata": {},
     "output_type": "execute_result"
    }
   ],
   "source": [
    "# Test score\n",
    "y_pred_tuned = clf.predict(X_test)\n",
    "accuracy_score(y_test, y_pred_tuned)"
   ]
  },
  {
   "cell_type": "code",
   "execution_count": 15,
   "id": "de2ff82c",
   "metadata": {},
   "outputs": [
    {
     "name": "stdout",
     "output_type": "stream",
     "text": [
      "[[0.02264426 0.01901333 0.01528826 0.01933849 0.67505329 0.0454021\n",
      "  0.01927373 0.04245956 0.02942765 0.11209933]]\n",
      "['4']\n",
      "4\n"
     ]
    }
   ],
   "source": [
    "A = X_test[0,:]\n",
    "predictions = clf.predict_proba(A.reshape(1, -1))\n",
    "y_pred_tuned = clf.predict(A.reshape(1, -1))\n",
    "print(predictions)\n",
    "print(y_pred_tuned)\n",
    "print(y_test[0])"
   ]
  },
  {
   "cell_type": "code",
   "execution_count": 16,
   "id": "d9ae57e2",
   "metadata": {},
   "outputs": [
    {
     "name": "stdout",
     "output_type": "stream",
     "text": [
      "[[0.04683246 0.01522985 0.15330595 0.07667659 0.03879292 0.04518991\n",
      "  0.14765318 0.04012704 0.35007937 0.08611272]]\n"
     ]
    }
   ],
   "source": [
    "A=np.ones((1,784))\n",
    "predictions = clf.predict_proba(A)\n",
    "print(predictions)"
   ]
  },
  {
   "cell_type": "code",
   "execution_count": 22,
   "id": "f0392b20",
   "metadata": {},
   "outputs": [
    {
     "data": {
      "text/plain": [
       "['logres.m5']"
      ]
     },
     "execution_count": 22,
     "metadata": {},
     "output_type": "execute_result"
    }
   ],
   "source": [
    "from joblib import dump, load\n",
    "\n",
    "dump(clf, \"logres.m5\")"
   ]
  },
  {
   "cell_type": "code",
   "execution_count": 26,
   "id": "651065f9",
   "metadata": {},
   "outputs": [
    {
     "name": "stdout",
     "output_type": "stream",
     "text": [
      "Test score: 84.01 %\n"
     ]
    }
   ],
   "source": [
    "# Load from file\n",
    "joblib_model = load(\"logres.m5\")\n",
    "\n",
    "# Calculate the accuracy and predictions\n",
    "score = joblib_model.score(X_test, y_test)\n",
    "print(\"Test score: {0:.2f} %\".format(100 * score))"
   ]
  },
  {
   "cell_type": "code",
   "execution_count": null,
   "id": "a9219a0c",
   "metadata": {},
   "outputs": [],
   "source": []
  }
 ],
 "metadata": {
  "kernelspec": {
   "display_name": "Python 3 (ipykernel)",
   "language": "python",
   "name": "python3"
  },
  "language_info": {
   "codemirror_mode": {
    "name": "ipython",
    "version": 3
   },
   "file_extension": ".py",
   "mimetype": "text/x-python",
   "name": "python",
   "nbconvert_exporter": "python",
   "pygments_lexer": "ipython3",
   "version": "3.8.10"
  }
 },
 "nbformat": 4,
 "nbformat_minor": 5
}
